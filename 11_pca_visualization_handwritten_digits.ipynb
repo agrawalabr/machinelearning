{
  "nbformat": 4,
  "nbformat_minor": 0,
  "metadata": {
    "colab": {
      "provenance": [],
      "include_colab_link": true
    },
    "kernelspec": {
      "name": "python3",
      "display_name": "Python 3"
    }
  },
  "cells": [
    {
      "cell_type": "markdown",
      "metadata": {
        "id": "view-in-github",
        "colab_type": "text"
      },
      "source": [
        "<a href=\"https://colab.research.google.com/github/agrawalabr/machinelearning/blob/main/11_pca_visualization_handwritten_digits.ipynb\" target=\"_parent\"><img src=\"https://colab.research.google.com/assets/colab-badge.svg\" alt=\"Open In Colab\"/></a>"
      ]
    },
    {
      "cell_type": "markdown",
      "metadata": {
        "id": "mTg2YDZBKXy2"
      },
      "source": [
        "# PCA for visualization of handwritten digits data\n",
        "\n",
        "PCA is often used as a technique to aid visualization of high-dimensional data. In this notebook, we'll see how this can be applied to the familiar handwritten digits dataset."
      ]
    },
    {
      "cell_type": "code",
      "metadata": {
        "id": "Y6N4I8y7J6zh"
      },
      "source": [
        "import numpy as np\n",
        "import matplotlib.pyplot as plt\n",
        "import seaborn as sns\n",
        "\n",
        "from sklearn.datasets import fetch_openml\n",
        "from sklearn.decomposition import PCA\n",
        "\n",
        "from mpl_toolkits.mplot3d import Axes3D\n",
        "from ipywidgets import interact, fixed\n",
        "from mpl_toolkits.axes_grid1.inset_locator import inset_axes"
      ],
      "execution_count": 1,
      "outputs": []
    },
    {
      "cell_type": "markdown",
      "metadata": {
        "id": "-6wC7eZnK6tp"
      },
      "source": [
        "First, let's load the data and visualize a few random samples of each type of digit."
      ]
    },
    {
      "cell_type": "code",
      "metadata": {
        "id": "pRYHmyoAKzYJ"
      },
      "source": [
        "X, y = fetch_openml('mnist_784', version=1, return_X_y=True, as_frame=False)"
      ],
      "execution_count": null,
      "outputs": []
    },
    {
      "cell_type": "code",
      "metadata": {
        "id": "zRxBl9evM3jk"
      },
      "source": [
        "X = X/255.0\n",
        "X.shape"
      ],
      "execution_count": null,
      "outputs": []
    },
    {
      "cell_type": "code",
      "metadata": {
        "id": "1Vla_tdTLMiB"
      },
      "source": [
        "classes = ['0', '1', '2','3', '4','5', '6', '7', '8', '9']\n",
        "nclasses = len(classes)"
      ],
      "execution_count": null,
      "outputs": []
    },
    {
      "cell_type": "code",
      "metadata": {
        "id": "Gn-PATy4K95T"
      },
      "source": [
        "samples_per_class = 5\n",
        "\n",
        "figure = plt.figure(figsize=(nclasses*2,(1+samples_per_class*2)));\n",
        "\n",
        "for idx_cls, cls in enumerate(classes):\n",
        "  idxs = np.flatnonzero(y == cls)\n",
        "  idxs = np.random.choice(idxs, samples_per_class, replace=False)\n",
        "  for i, idx in enumerate(idxs):\n",
        "    plt_idx = i * nclasses + idx_cls + 1\n",
        "    p = plt.subplot(samples_per_class, nclasses, plt_idx);\n",
        "    p = sns.heatmap(np.reshape(X[idx], (28,28)), cmap=plt.cm.gray,\n",
        "             xticklabels=False, yticklabels=False, cbar=False);\n",
        "    p = plt.axis('off');"
      ],
      "execution_count": null,
      "outputs": []
    },
    {
      "cell_type": "markdown",
      "metadata": {
        "id": "Ez3Q3lHLU-MY"
      },
      "source": [
        "Each sample is represented by an array of 784 (28x28) pixels."
      ]
    },
    {
      "cell_type": "markdown",
      "metadata": {
        "id": "xqMOlqCqLaOT"
      },
      "source": [
        "Let us try to use PCA to project this data onto a smaller number of dimensions."
      ]
    },
    {
      "cell_type": "code",
      "metadata": {
        "id": "GKlK-TB4Lfp5"
      },
      "source": [
        "pca = PCA(40)\n",
        "X_pca = pca.fit_transform(X)"
      ],
      "execution_count": null,
      "outputs": []
    },
    {
      "cell_type": "code",
      "metadata": {
        "id": "Z49B0HmQMSwE"
      },
      "source": [
        "plt.figure(figsize=(12, 4))\n",
        "plt.subplot(1, 2, 1)\n",
        "plt.scatter(range(pca.n_components_), pca.explained_variance_ratio_)\n",
        "plt.xlabel('Principal component')\n",
        "plt.ylabel('Explained variance ratio')\n",
        "plt.title('Explained variance ratio by principal component')\n",
        "plt.grid()\n",
        "plt.subplot(1, 2, 2)\n",
        "plt.scatter(range(pca.n_components_), pca.explained_variance_ratio_.cumsum())\n",
        "plt.plot(range(pca.n_components_), pca.explained_variance_ratio_.cumsum())\n",
        "plt.xlabel('Principal component')\n",
        "plt.ylabel('Explained variance ratio')\n",
        "plt.title('Cumulative explained variance ratio')\n",
        "plt.grid()\n",
        "plt.tight_layout()\n",
        "plt.show()"
      ],
      "execution_count": null,
      "outputs": []
    },
    {
      "cell_type": "code",
      "metadata": {
        "id": "ELup1FHKLyv0"
      },
      "source": [
        "X_pca.shape"
      ],
      "execution_count": null,
      "outputs": []
    },
    {
      "cell_type": "markdown",
      "metadata": {
        "id": "-t0VRBK5V5EA"
      },
      "source": [
        "Next, let's explore how each digit is built up from its principal components.\n",
        "\n",
        "In the interactive plot below,\n",
        "\n",
        "* The original image (sample number `index`) is shown on the top left.\n",
        "* The reconstructed image using `n_components` principal components is on the top right.\n",
        "* The bar plot on the bottom left shows the magnitude of each principal component in the selected image (sample number `index`).\n",
        "* The image on the bottom right shows the `n_component`*th* principal component vector.\n",
        "\n",
        "Use the interactive plot to explore the data. Make sure to look at a few examples for each digit class (by moving the `index` slider), and build it up one principal component at a time (by moving the `n_components` slider)."
      ]
    },
    {
      "cell_type": "code",
      "metadata": {
        "id": "kef757-9V-5S"
      },
      "source": [
        "from ipywidgets import interactive\n",
        "from ipywidgets import Layout\n",
        "import ipywidgets as widgets\n",
        "\n",
        "def progressive_plot(index, n_components):\n",
        "    i = n_components - 1\n",
        "    img = X[index]\n",
        "    img_pc = X_pca[index]\n",
        "    plt.figure(figsize=(12, 8))\n",
        "    # Plot the original image\n",
        "    plt.subplot(2, 2, 1)\n",
        "    plt.imshow(img.reshape((28, 28)), cmap='gray')\n",
        "    plt.title('Original image')\n",
        "    plt.xticks([])\n",
        "    plt.yticks([])\n",
        "    # Plot the reconstructed image\n",
        "    plt.subplot(2, 2, 2)\n",
        "    if i == -1:\n",
        "        plt.imshow(pca.mean_.reshape((28, 28)), cmap='gray')\n",
        "        plt.title('Mean')\n",
        "        plt.xticks([])\n",
        "        plt.yticks([])\n",
        "    else:\n",
        "        plt.imshow((np.dot(img_pc[:i+1], pca.components_[:i+1])\n",
        "                    + pca.mean_).reshape((28, 28)), cmap='gray')\n",
        "        plt.title('Principal components 0 to {} + mean'.format(i))\n",
        "        plt.xticks([])\n",
        "        plt.yticks([])\n",
        "    # Plot the bargraph\n",
        "    plt.subplot(2, 2, 3)\n",
        "    bars = plt.bar(range(pca.n_components_), img_pc, color='lightgray')\n",
        "    if i >= 0:\n",
        "        for j in range(n_components):\n",
        "            bars[j].set_color('#6495ED')\n",
        "        bars[i].set_color('r')\n",
        "    plt.title('Image principal components magnitude')\n",
        "    plt.xlabel('Principal component')\n",
        "    plt.ylabel('Magnitude')\n",
        "    # Plot the scaled principal component vector being added\n",
        "    plt.subplot(2, 2, 4)\n",
        "    if i == -1:\n",
        "        plt.imshow(pca.mean_.reshape((28, 28)), cmap='gray')\n",
        "        plt.title('Mean')\n",
        "        plt.xticks([])\n",
        "        plt.yticks([])\n",
        "    else:\n",
        "        plt.imshow((img_pc[i] * pca.components_[i]) .reshape((28, 28)), cmap='gray')\n",
        "        plt.title('Principal component vector {} * {:.3g}'.format(i, img_pc[i]))\n",
        "        plt.xticks([])\n",
        "        plt.yticks([])\n",
        "    plt.tight_layout()\n",
        "    plt.show()\n",
        "\n",
        "style = {'description_width': 'initial'}\n",
        "layout = Layout(width=\"800px\")\n",
        "index = widgets.IntSlider(min=0, max=len(X) - 1, value=19325, style=style, layout=layout)\n",
        "n_components = widgets.IntSlider(min=0, max=len(pca.components_), value=0, style=style, layout=layout)\n",
        "interactive(progressive_plot, index=index, n_components=n_components)\n"
      ],
      "execution_count": null,
      "outputs": []
    },
    {
      "cell_type": "markdown",
      "metadata": {
        "id": "SmunDHEjWBs6"
      },
      "source": [
        "Based on this interactive, can you say which samples (which class of digits) are likely to have a very large positive magnitude for the first principal component (PC 0)? Can you say which samples (which class of digits) are likely to have a very large negative magnitude for the first principal component (PC 0)?"
      ]
    },
    {
      "cell_type": "markdown",
      "metadata": {
        "id": "WCUS7jO_L0Vs"
      },
      "source": [
        "To test your understanding, we will visualize this data. Since we have the labels, we'll color each point according to its label."
      ]
    },
    {
      "cell_type": "markdown",
      "metadata": {
        "id": "qdHsdCPPQlC3"
      },
      "source": [
        "We will select some random samples to visualize:"
      ]
    },
    {
      "cell_type": "code",
      "metadata": {
        "id": "j4dYehd9Qjyj"
      },
      "source": [
        "random_samples = np.random.choice(np.arange(0, X_pca.shape[0]), 5000)"
      ],
      "execution_count": null,
      "outputs": []
    },
    {
      "cell_type": "markdown",
      "metadata": {
        "id": "ZamzYGCQQqKk"
      },
      "source": [
        "Then we can see them in 2D:"
      ]
    },
    {
      "cell_type": "code",
      "metadata": {
        "id": "XpnujoCBMc1O"
      },
      "source": [
        "plt.scatter(X_pca[random_samples, 0], X_pca[random_samples, 1],\n",
        "            c=y[random_samples].astype(int), edgecolor='none', alpha=0.5,\n",
        "            cmap=plt.cm.get_cmap('tab10', 10))\n",
        "plt.xlabel('PC 0')\n",
        "plt.ylabel('PC 1')\n",
        "plt.colorbar();"
      ],
      "execution_count": null,
      "outputs": []
    },
    {
      "cell_type": "markdown",
      "metadata": {
        "id": "VVfnD0xYQu7k"
      },
      "source": [
        "And in 3D (you can move the sliders to change your point of view):"
      ]
    },
    {
      "cell_type": "code",
      "metadata": {
        "id": "yKM_aNFXN7aw"
      },
      "source": [
        "def plot_3D(elev=30, azim=30, X=X_pca, y=y):\n",
        "\n",
        "  fig = plt.figure(figsize=(10,10));\n",
        "  ax = fig.add_subplot(111, projection='3d');\n",
        "  ax.view_init(elev=elev, azim=azim)\n",
        "\n",
        "  p = ax.scatter3D(X[:,0], X[:,1], X[:,2], c=y, s=20,\n",
        "                   alpha=0.5, cmap=plt.get_cmap('tab10', 10));\n",
        "  ax.set_xlabel('PC 0');\n",
        "  ax.set_ylabel('PC 1');\n",
        "  ax.set_zlabel('PC 2');\n",
        "\n",
        "  axins = inset_axes(ax,\n",
        "                   width=\"5%\",  # width = 5% of parent_bbox width\n",
        "                   height=\"50%\",  # height : 50%\n",
        "                   loc='center left',\n",
        "                   bbox_to_anchor=(1.05, 0., 1, 1),\n",
        "                   bbox_transform=ax.transAxes,\n",
        "                   borderpad=0,\n",
        "                   )\n",
        "\n",
        "  fig.colorbar(p, cax=axins);\n",
        "  plt.show();\n",
        "\n",
        "interact(plot_3D, elev=90, azim=90,\n",
        "         X=fixed(X_pca[random_samples]), y=fixed(y[random_samples].astype(int)));"
      ],
      "execution_count": null,
      "outputs": []
    },
    {
      "cell_type": "markdown",
      "metadata": {
        "id": "0qLcQz1yVGeN"
      },
      "source": [
        "## Questions\n",
        "\n",
        "1. Which class of digits will have a very large *positive* weight for the first principal component, and why?\n",
        "\n",
        "2. Which class of digits will have a very large *negative* weight for the first principal component, and why?\n"
      ]
    }
  ]
}