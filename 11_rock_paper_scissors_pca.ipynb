{
  "cells": [
    {
      "cell_type": "markdown",
      "metadata": {
        "id": "view-in-github",
        "colab_type": "text"
      },
      "source": [
        "<a href=\"https://colab.research.google.com/github/agrawalabr/machinelearning/blob/main/11_rock_paper_scissors_pca.ipynb\" target=\"_parent\"><img src=\"https://colab.research.google.com/assets/colab-badge.svg\" alt=\"Open In Colab\"/></a>"
      ]
    },
    {
      "cell_type": "markdown",
      "metadata": {
        "id": "o8u6UE1RNzyZ"
      },
      "source": [
        "# Dimensionality reduction on rock, paper, scissors data\n",
        "\n",
        "\n",
        "**Attribution**: This is an extended version of a notebook by:\n",
        "> **Author**: Julien de la Bruère-Terreault <drgfreeman@tuta.io>  \n",
        "> **Source**: https://github.com/DrGFreeman/rps-cv-data-science  \n",
        "> **License**: MIT"
      ]
    },
    {
      "cell_type": "code",
      "execution_count": null,
      "metadata": {
        "id": "sYEOZJeX_qHE"
      },
      "outputs": [],
      "source": [
        "import seaborn as sns; sns.set()\n",
        "import matplotlib.pyplot as plt\n",
        "\n",
        "from mpl_toolkits.mplot3d import Axes3D\n",
        "from ipywidgets import interact, fixed\n",
        "\n",
        "import numpy as np\n",
        "import pandas as pd"
      ]
    },
    {
      "cell_type": "code",
      "execution_count": null,
      "metadata": {
        "id": "sfG9dsRykCBh"
      },
      "outputs": [],
      "source": [
        "!pip install scikit-optimize"
      ]
    },
    {
      "cell_type": "code",
      "execution_count": null,
      "metadata": {
        "id": "oaYH1nb9kEgn"
      },
      "outputs": [],
      "source": [
        "!pip install git+https://github.com/ffund/rps-cv"
      ]
    },
    {
      "cell_type": "code",
      "execution_count": null,
      "metadata": {
        "id": "rU_KeACrkIxv"
      },
      "outputs": [],
      "source": [
        "from sklearn.model_selection import train_test_split\n",
        "from sklearn.pipeline import Pipeline\n",
        "from sklearn.decomposition import PCA\n",
        "from sklearn.svm import SVC\n",
        "from sklearn.model_selection import StratifiedKFold\n",
        "from sklearn.metrics import classification_report\n",
        "from sklearn.metrics import confusion_matrix\n",
        "\n",
        "from skopt import BayesSearchCV\n",
        "from skopt.space import Real, Integer\n",
        "\n",
        "from rpscv import imgproc"
      ]
    },
    {
      "cell_type": "markdown",
      "metadata": {
        "id": "bVPKL14OOWhK"
      },
      "source": [
        "## Get data"
      ]
    },
    {
      "cell_type": "code",
      "execution_count": null,
      "metadata": {
        "id": "KZsZl4DbOXOq"
      },
      "outputs": [],
      "source": [
        "!mkdir /content/rps-cv-data-science\n",
        "%cd /content/rps-cv-data-science\n",
        "!wget https://www.dropbox.com/s/sr1iui3zfdk0o53/rps-cv-images.zip\n",
        "!unzip rps-cv-images.zip -d img/\n",
        "!rm rps-cv-images.zip"
      ]
    },
    {
      "cell_type": "markdown",
      "metadata": {
        "id": "2Agmo8vsNzyg"
      },
      "source": [
        "The `generateGrayFeatures` function of the `rpscv.imgproc` module reads the images, removes the background, converts them to grayscale and rescales their values in the range of 0 (black) to 1 (white). The function outputs an array where each row represents the 60,000 pixel values of an image (200x300 pixels flattened) and a vector of label values in the form of integers (0 = *rock*, 1 = *paper*, 2 = *scissors*)."
      ]
    },
    {
      "cell_type": "code",
      "execution_count": null,
      "metadata": {
        "id": "qISCZgb1Pznc"
      },
      "outputs": [],
      "source": [
        "%cd /content/rps-cv-data-science"
      ]
    },
    {
      "cell_type": "code",
      "execution_count": null,
      "metadata": {
        "id": "fUydHpH7Nzyh"
      },
      "outputs": [],
      "source": [
        "X, y = imgproc.generateGrayFeatures()"
      ]
    },
    {
      "cell_type": "markdown",
      "metadata": {
        "id": "-QcXlmvUTSx7"
      },
      "source": [
        "Let's check the shapes of the features X and labels y arrays.\n",
        "\n"
      ]
    },
    {
      "cell_type": "code",
      "execution_count": null,
      "metadata": {
        "id": "kFtAV2vqTYsx"
      },
      "outputs": [],
      "source": [
        "X.shape, y.shape"
      ]
    },
    {
      "cell_type": "markdown",
      "metadata": {
        "id": "s23jGVu7Ta2K"
      },
      "source": [
        "There are 2188 images in the dataset. The X array stores the images, each represented as a vector of 60,000 pixel intensity values. These correspond to the 200 x 300 pixels of the original images in a flattened form.\n",
        "\n",
        "We can pick any image from the X array, reshape it to its original dimensions and display it using the pyplot `imshow` function:"
      ]
    },
    {
      "cell_type": "code",
      "execution_count": null,
      "metadata": {
        "id": "feD_YdneTSIR"
      },
      "outputs": [],
      "source": [
        "img = X[123].reshape((200, 300));\n",
        "plt.imshow(img, cmap='gray');\n",
        "plt.xticks([]);\n",
        "plt.yticks([]);\n"
      ]
    },
    {
      "cell_type": "markdown",
      "metadata": {
        "id": "mkjmLkCHThcG"
      },
      "source": [
        "The y array stores the labels corresponding to each image, encoded as integers."
      ]
    },
    {
      "cell_type": "code",
      "execution_count": null,
      "metadata": {
        "id": "v9KZOOtITjJo"
      },
      "outputs": [],
      "source": [
        "np.unique(y, return_counts=True)"
      ]
    },
    {
      "cell_type": "code",
      "execution_count": null,
      "metadata": {
        "id": "vBItQdeYDag8"
      },
      "outputs": [],
      "source": [
        "classes = np.array(['rock', 'paper', 'scissors'])"
      ]
    },
    {
      "cell_type": "markdown",
      "metadata": {
        "id": "gG4dSQ0aTx0n"
      },
      "source": [
        "## Principal Component Analysis\n"
      ]
    },
    {
      "cell_type": "markdown",
      "metadata": {
        "id": "eIDogmVZTzoF"
      },
      "source": [
        "To perform Principal Component Analysis, we use the PCA transformer from the Scikit-Learn decomposition module. For this demonstration, we choose to extract the 40 first principal components. When using PCA as a dimensionality reduction step in a machine learning pipeline, the number of principal components to extract is a parameter that can be tuned along with other model hyperparameters.\n",
        "\n"
      ]
    },
    {
      "cell_type": "markdown",
      "metadata": {
        "id": "aMEVwDPhT0mZ"
      },
      "source": [
        "With the PCA transformer defined, we fit it to the array of image feature vectors X.\n",
        "\n"
      ]
    },
    {
      "cell_type": "code",
      "execution_count": null,
      "metadata": {
        "id": "RyuimyMHR4sy"
      },
      "outputs": [],
      "source": [
        "pca = PCA(n_components=40)\n",
        "pca.fit(X)"
      ]
    },
    {
      "cell_type": "markdown",
      "metadata": {
        "id": "BrsYitFcUDAo"
      },
      "source": [
        "The principal components are orthogonal vectors, in the original feature space, where the first component represents the axis of maximum variance in the data, the second components represents the second axis of maximum variance, and so on, in order of decreasing value of explained variance.\n",
        "\n",
        "The explained variance ratio (explained_variance / total_variance) of each component can be accessed from the explained_variance_ratio_ attribute of the PCA object.\n",
        "\n",
        "Let's plot the explained variance ratio of each principal component.\n",
        "\n"
      ]
    },
    {
      "cell_type": "code",
      "execution_count": null,
      "metadata": {
        "id": "2qsuCxE_UERH"
      },
      "outputs": [],
      "source": [
        "plt.figure(figsize=(12, 4))\n",
        "plt.subplot(1, 2, 1)\n",
        "plt.scatter(range(pca.n_components_), pca.explained_variance_ratio_)\n",
        "plt.plot(range(pca.n_components_), pca.explained_variance_ratio_)\n",
        "plt.xlabel('Principal component')\n",
        "plt.ylabel('Proportion of variance explained')\n",
        "plt.title('Proportion of variance explained by principal component')\n",
        "plt.grid()\n",
        "plt.subplot(1, 2, 2)\n",
        "plt.scatter(range(pca.n_components_),pca.explained_variance_ratio_.cumsum())\n",
        "plt.plot(range(pca.n_components_),pca.explained_variance_ratio_.cumsum())\n",
        "plt.xlabel('Principal component')\n",
        "plt.ylabel('Proportion of variance explained')\n",
        "plt.title('Cumulative proportion of variance explained')\n",
        "plt.ylim(0,1)\n",
        "plt.grid()\n",
        "plt.tight_layout()\n",
        "plt.show()\n"
      ]
    },
    {
      "cell_type": "markdown",
      "metadata": {
        "id": "E0SShOHyUOEq"
      },
      "source": [
        "We can see that the first 40 principal components explain more than 80% of the total variance and the first 5 components explain more than 50% of the total variance. As the number of components increases, the variance explained by each new component reduces.\n",
        "\n"
      ]
    },
    {
      "cell_type": "markdown",
      "metadata": {
        "id": "_LGVKLvBUPSv"
      },
      "source": [
        "### Principal component vectors\n"
      ]
    },
    {
      "cell_type": "markdown",
      "metadata": {
        "id": "ATbylkSjUQk6"
      },
      "source": [
        "The calculated principal components are available as the components_ attribute of the fitted PCA object.\n",
        "\n",
        "Let's look at the shape of the principal components array.\n",
        "\n"
      ]
    },
    {
      "cell_type": "code",
      "execution_count": null,
      "metadata": {
        "id": "pz1SOVbMUSqj"
      },
      "outputs": [],
      "source": [
        "pca.components_.shape"
      ]
    },
    {
      "cell_type": "markdown",
      "metadata": {
        "id": "mDOnQNP1UUKV"
      },
      "source": [
        "As we specified, the principal components array contains 40 components, each represented by a vector of dimension 60,000.\n",
        "\n",
        "The principal component vectors always have the same shape as the input features vector.\n",
        "\n",
        "This means that we can visualize the principal components the same way as we visualize the input images. Let's look at the first principal component vector reshaped to dimensions 200 x 300."
      ]
    },
    {
      "cell_type": "code",
      "execution_count": null,
      "metadata": {
        "id": "AI93PvPJU-RY"
      },
      "outputs": [],
      "source": [
        "plt.imshow(pca.components_[0].reshape((200, 300)), cmap='gray')\n",
        "plt.xticks([])\n",
        "plt.yticks([])\n",
        "plt.show()"
      ]
    },
    {
      "cell_type": "markdown",
      "metadata": {
        "id": "rW3C4hKCVFqX"
      },
      "source": [
        "Along with the principal component vectors, PCA also computes the mean of all the input images. This mean is stored as the mean_ attribute of the PCA object.\n",
        "\n"
      ]
    },
    {
      "cell_type": "code",
      "execution_count": null,
      "metadata": {
        "id": "ZPZG34obVGYP"
      },
      "outputs": [],
      "source": [
        "pca.mean_.shape"
      ]
    },
    {
      "cell_type": "markdown",
      "metadata": {
        "id": "f-nbmMYLVHiu"
      },
      "source": [
        "As expected, the mean has the same shape as the input features vector and the principal components vectors. We can therefore visualize the mean after reshaping it to the dimensions of the original images.\n",
        "\n"
      ]
    },
    {
      "cell_type": "code",
      "execution_count": null,
      "metadata": {
        "id": "GS6egXTpVIxU"
      },
      "outputs": [],
      "source": [
        "plt.imshow(pca.mean_.reshape((200, 300)), cmap='gray')\n",
        "plt.xticks([])\n",
        "plt.yticks([])\n",
        "plt.show()"
      ]
    },
    {
      "cell_type": "markdown",
      "metadata": {
        "id": "dp8xKYeEWr2t"
      },
      "source": [
        "Let's now plot all the 40 principal component vectors as images. We include the explained variance ratio of each principal component in the title as reference.\n",
        "\n"
      ]
    },
    {
      "cell_type": "code",
      "execution_count": null,
      "metadata": {
        "id": "EF-3hfnKWtY5"
      },
      "outputs": [],
      "source": [
        "pc_imgs = pca.components_.reshape((len(pca.components_), 200, 300))\n",
        "\n",
        "nb_col = 4\n",
        "nb_row = pc_imgs.shape[0] // nb_col\n",
        "plt.figure(figsize=(4 * nb_col, 3.2 * nb_row))\n",
        "for i in range(nb_col * nb_row):\n",
        "    plt.subplot(nb_row, nb_col, i+1)\n",
        "    plt.imshow(pc_imgs[i], cmap='gray')\n",
        "    plt.title(\"Principal component {:d}\\n Proportion of var. expl. {:.4f}\".format(i, pca.explained_variance_ratio_[i]))\n",
        "    plt.xticks(())\n",
        "    plt.yticks(())\n",
        "plt.show()\n"
      ]
    },
    {
      "cell_type": "markdown",
      "metadata": {
        "id": "UOMKlxieWyBY"
      },
      "source": [
        "The plots of the principal components vectors show that the first principal components encode relatively simple shapes. As the principal component number increases, the shapes represented by each principal component become more and more complex.\n",
        "\n"
      ]
    },
    {
      "cell_type": "markdown",
      "metadata": {
        "id": "m_sAOrJtWysl"
      },
      "source": [
        "### Representation of images by their principal components\n"
      ]
    },
    {
      "cell_type": "markdown",
      "metadata": {
        "id": "7YQkg9ZiWz4w"
      },
      "source": [
        "When using PCA as a means of dimensionality reduction, we want to encode each image in a vector of lower dimension than the original. This vector corresponds to factors by which we can multiply each of the principal component vectors to represent the original image. Let's go through this step by step.\n",
        "\n",
        "\n"
      ]
    },
    {
      "cell_type": "code",
      "execution_count": null,
      "metadata": {
        "id": "GfrLyR5d_yIo"
      },
      "outputs": [],
      "source": [
        "X_pca = pca.transform(X)\n",
        "X_pca.shape"
      ]
    },
    {
      "cell_type": "markdown",
      "metadata": {
        "id": "tRT0pbFQW5mx"
      },
      "source": [
        "Our transformed features array `X_pca` represents each image by a vector of dimension 40. We have therefore reduced our feature space from 60,000 dimensions to 40 dimensions, a reduction factor of 1500X !\n",
        "\n"
      ]
    },
    {
      "cell_type": "markdown",
      "metadata": {
        "id": "z3EEbTQKW7Zi"
      },
      "source": [
        "We can pick any image from the transformed feature array and look at its content.\n",
        "\n"
      ]
    },
    {
      "cell_type": "code",
      "execution_count": null,
      "metadata": {
        "id": "XkrYOy9uW8HF"
      },
      "outputs": [],
      "source": [
        "X_pca[123]"
      ]
    },
    {
      "cell_type": "markdown",
      "metadata": {
        "id": "jDhNvUzqW-ys"
      },
      "source": [
        "We can use the 40 coefficients from this vector to multiply the 40 principal component vectors. This corresponds to the dot product of the transformed feature vector by the array of principal components. We can then add the PCA mean vector and obtain an image vector reconstructed from the principal components.\n",
        "\n"
      ]
    },
    {
      "cell_type": "code",
      "execution_count": null,
      "metadata": {
        "id": "va_rsfoqW_yK"
      },
      "outputs": [],
      "source": [
        "img_from_pcs = np.dot(X_pca[123], pca.components_) + pca.mean_\n",
        "\n",
        "img_from_pcs.shape"
      ]
    },
    {
      "cell_type": "markdown",
      "metadata": {
        "id": "TvSGcVjsXBos"
      },
      "source": [
        "We reshape this image vector to 200 x 300 pixels and display it alongside the original image."
      ]
    },
    {
      "cell_type": "code",
      "execution_count": null,
      "metadata": {
        "id": "0X6wOrsnXFYg"
      },
      "outputs": [],
      "source": [
        "plt.figure(figsize=(12, 4))\n",
        "plt.subplot(1, 2, 1)\n",
        "plt.imshow(X[123].reshape((200, 300)), cmap='gray')\n",
        "plt.title('Original image')\n",
        "plt.xticks([])\n",
        "plt.yticks([])\n",
        "plt.subplot(1, 2, 2)\n",
        "plt.imshow(img_from_pcs.reshape((200, 300)), cmap='gray')\n",
        "plt.title('Image from principal components')\n",
        "plt.xticks([])\n",
        "plt.yticks([])\n",
        "plt.tight_layout()\n",
        "plt.show()"
      ]
    },
    {
      "cell_type": "markdown",
      "metadata": {
        "id": "Cxd57Fk7XLAI"
      },
      "source": [
        "The `inverse_transform` method of the PCA class allows to perform this transformation from the principal component space to the original image feature space on the entire array of transformed images with ease."
      ]
    },
    {
      "cell_type": "code",
      "execution_count": null,
      "metadata": {
        "id": "ggQEJ-VVXQNf"
      },
      "outputs": [],
      "source": [
        "X_from_pcs = pca.inverse_transform(X_pca)\n",
        "\n",
        "X_from_pcs.shape"
      ]
    },
    {
      "cell_type": "markdown",
      "metadata": {
        "id": "4uq9es-0Z2aS"
      },
      "source": [
        "We create a function to show the contribution of each of the principal component vectors in the progressive reconstruction of an image based on its features in the principal component space.\n",
        "\n"
      ]
    },
    {
      "cell_type": "code",
      "execution_count": null,
      "metadata": {
        "id": "_ybnwlsCZ3eZ"
      },
      "outputs": [],
      "source": [
        "from ipywidgets import interactive\n",
        "from ipywidgets import Layout\n",
        "import ipywidgets as widgets\n",
        "\n",
        "def progressive_plot(index, n_components):\n",
        "    i = n_components - 1\n",
        "    img = X[index]\n",
        "    img_pc = X_pca[index]\n",
        "    plt.figure(figsize=(12, 8))\n",
        "    # Plot the original image\n",
        "    plt.subplot(2, 2, 1)\n",
        "    plt.imshow(img.reshape((200, 300)), cmap='gray')\n",
        "    plt.title('Original image')\n",
        "    plt.xticks([])\n",
        "    plt.yticks([])\n",
        "    # Plot the reconstructed image\n",
        "    plt.subplot(2, 2, 2)\n",
        "    if i == -1:\n",
        "        plt.imshow(pca.mean_.reshape((200, 300)), cmap='gray')\n",
        "        plt.title('Mean')\n",
        "        plt.xticks([])\n",
        "        plt.yticks([])\n",
        "    else:\n",
        "        plt.imshow((np.dot(img_pc[:i+1], pca.components_[:i+1])\n",
        "                    + pca.mean_).reshape((200, 300)), cmap='gray')\n",
        "        plt.title('Principal components 0 to {} + mean'.format(i))\n",
        "        plt.xticks([])\n",
        "        plt.yticks([])\n",
        "    # Plot the bargraph\n",
        "    plt.subplot(2, 2, 3)\n",
        "    bars = plt.bar(range(pca.n_components_), img_pc, color='lightgray')\n",
        "    if i >= 0:\n",
        "        for j in range(n_components):\n",
        "            bars[j].set_color('#6495ED')\n",
        "        bars[i].set_color('r')\n",
        "    plt.title('Image principal components magnitude')\n",
        "    plt.xlabel('Principal component')\n",
        "    plt.ylabel('Magnitude')\n",
        "    # Plot the scaled principal component vector being added\n",
        "    plt.subplot(2, 2, 4)\n",
        "    if i == -1:\n",
        "        plt.imshow(pca.mean_.reshape((200, 300)), cmap='gray')\n",
        "        plt.title('Mean')\n",
        "        plt.xticks([])\n",
        "        plt.yticks([])\n",
        "    else:\n",
        "        plt.imshow((img_pc[i] * pca.components_[i]) .reshape((200, 300)), cmap='gray')\n",
        "        plt.title('Principal component vector {} * {:.3g}'.format(i, img_pc[i]))\n",
        "        plt.xticks([])\n",
        "        plt.yticks([])\n",
        "    plt.tight_layout()\n",
        "    plt.show()\n"
      ]
    },
    {
      "cell_type": "markdown",
      "metadata": {
        "id": "thQPD1liZ6gH"
      },
      "source": [
        "The index slider allow selection of the index of the image to dislay. The n_components slider selects the number of principal components used for the reconstruction. Increasing this slider from 0 (only the mean) to the maximum number of principal components shows the contribution of each principal component in the reconstructed image.\n",
        "\n",
        "The top left image shows the original image. The top right corner shows the image reconstructed with the selected number of principal components. The bottom left bargraph shows the magnitude of each principal component in the selected image in light gray. In red is the current principal component magnitude which is also represented in the bottom right image. In blue are the magnitudes of the lower principal components which, along with the current principal component, are used to reconstruct the image shown in the top right corner.\n",
        "\n"
      ]
    },
    {
      "cell_type": "code",
      "execution_count": null,
      "metadata": {
        "id": "95S_CIPAZ50M"
      },
      "outputs": [],
      "source": [
        "style = {'description_width': 'initial'}\n",
        "layout = Layout(width=\"800px\")\n",
        "index = widgets.IntSlider(min=0, max=len(X) - 1, value=1502, style=style, layout=layout)\n",
        "n_components = widgets.IntSlider(min=0, max=len(pca.components_), value=0, style=style, layout=layout)\n",
        "interactive(progressive_plot, index=index, n_components=n_components)\n"
      ]
    },
    {
      "cell_type": "markdown",
      "metadata": {
        "id": "xFTSIefA_pff"
      },
      "source": [
        "### Visualizing high dimensional data with PCA"
      ]
    },
    {
      "cell_type": "markdown",
      "metadata": {
        "id": "Sf50WcYj_snI"
      },
      "source": [
        "We can also plot the rock, paper, scissors samples using the most important principal components:"
      ]
    },
    {
      "cell_type": "code",
      "execution_count": null,
      "metadata": {
        "id": "fw4QFxss_1m7"
      },
      "outputs": [],
      "source": [
        "from mpl_toolkits.mplot3d import Axes3D\n",
        "from ipywidgets import interact, fixed\n",
        "\n",
        "def plot_3D(elev=90, azim=90, X=X_pca, y=y):\n",
        "\n",
        "  fig = plt.figure(figsize=(10,10));\n",
        "  ax = fig.add_subplot(111, projection='3d');\n",
        "  ax.view_init(elev=elev, azim=azim)\n",
        "\n",
        "  ax.scatter3D(X[:,0], X[:,1], X[:,2], c=y, s=20, cmap='viridis');\n",
        "\n",
        "  ax.set_xlabel('PC 0');\n",
        "  ax.set_ylabel('PC 1');\n",
        "  ax.set_zlabel('PC 2');\n",
        "\n",
        "  plt.show();"
      ]
    },
    {
      "cell_type": "code",
      "execution_count": null,
      "metadata": {
        "id": "IDIRE3hv_8t3"
      },
      "outputs": [],
      "source": [
        "interact(plot_3D, X=fixed(X_pca), y=fixed(y));"
      ]
    },
    {
      "cell_type": "markdown",
      "metadata": {
        "id": "479LBvSRozip"
      },
      "source": [
        "## Classification with supervised learning after PCA transformation"
      ]
    },
    {
      "cell_type": "markdown",
      "metadata": {
        "id": "5dMd9vDQ_9k0"
      },
      "source": [
        "We can use the reduced data as input to a supervised classifier, and use it to classify the images as rock, paper, and scissors."
      ]
    },
    {
      "cell_type": "markdown",
      "metadata": {
        "id": "2xH0f1b_o7K0"
      },
      "source": [
        "First, we split the data into a training and test set."
      ]
    },
    {
      "cell_type": "code",
      "execution_count": null,
      "metadata": {
        "id": "ofNVSXlHo2g9"
      },
      "outputs": [],
      "source": [
        "X_train, X_test, y_train, y_test = train_test_split(X, y, test_size=.25,\n",
        "                                                    stratify=y, random_state=42)"
      ]
    },
    {
      "cell_type": "markdown",
      "metadata": {
        "id": "6we7hqimo9Ae"
      },
      "source": [
        "### Model definition\n",
        "The model consists of a Principal Component Analysis (PCA) transformer followed by a Support Vector Machine classifier.\n",
        "\n",
        "The SVM classifier will take the transformed features from the PCA, along with the image labels, to fit a classification model and perform the predictions.\n",
        "\n",
        "The PCA transformer and SVM classifier are assembled into a scikit-Learn `Pipeline` object. This will allow us to perform cross-validation on the training data during the model hyperparameter tuning.\n",
        "\n",
        "The `rbf` kernel is selected for the support vector classifier as it allows more complex, non-linear decision boundaries."
      ]
    },
    {
      "cell_type": "code",
      "execution_count": null,
      "metadata": {
        "id": "oBWhqtHOo-4y"
      },
      "outputs": [],
      "source": [
        "pipeline = Pipeline([('pca', PCA()),\n",
        "                     ('clf', SVC(kernel='rbf'))])"
      ]
    },
    {
      "cell_type": "markdown",
      "metadata": {
        "id": "RQUGUK4PpLPw"
      },
      "source": [
        "Next, we define the range of the model hyperparameters into which to perform the search. We will be using the `BayesSearchCV` class of the scikit-optimize package. (More on that [here](https://thuijskens.github.io/2016/12/29/bayesian-optimisation/)!)\n",
        "\n",
        "We define the range of principal components (`n_components`) for the `PCA` transformer as integers between 20 and 100.\n",
        "\n",
        "We define the `gamma` and `C` parameters of the `SVC` as reals with the ranges .0001-.01 and 1-3000 respectively."
      ]
    },
    {
      "cell_type": "code",
      "execution_count": null,
      "metadata": {
        "id": "W38iodzFpK19"
      },
      "outputs": [],
      "source": [
        "opt_params = {'pca__n_components': Integer(20, 100),\n",
        "              'clf__gamma': Real(.0001, .01, prior='log-uniform'),\n",
        "              'clf__C': Real(1, 3000, prior='log-uniform')}"
      ]
    },
    {
      "cell_type": "markdown",
      "metadata": {
        "id": "SzfX0yLEpXDl"
      },
      "source": [
        "We define the model as the `BayesSearchCV` cross-validation object, passing the `pipeline` object defined previously as estimator. We pass the hyperparameter dictionary as search space and specify the number of iterations for the hyperparameter search.\n",
        "\n",
        "We use 5 fold cross-validation. The use of `StratifiedKFold` ensures that each class will be equally represented in each of the cross-validation folds."
      ]
    },
    {
      "cell_type": "code",
      "execution_count": null,
      "metadata": {
        "id": "LzGCscytpeR5"
      },
      "outputs": [],
      "source": [
        "model = BayesSearchCV(pipeline,\n",
        "                      search_spaces=opt_params,\n",
        "                      n_iter=20,\n",
        "                      cv=StratifiedKFold(n_splits=5),\n",
        "                      scoring='accuracy',\n",
        "                      return_train_score=True,\n",
        "                      verbose=100)"
      ]
    },
    {
      "cell_type": "markdown",
      "metadata": {
        "id": "HrMM1OhLpkyH"
      },
      "source": [
        "### Fit model and evaluate on training set\n",
        "\n",
        "With the model defined, we call the `fit` method on the model which performs the hyperparameter optimization."
      ]
    },
    {
      "cell_type": "code",
      "execution_count": null,
      "metadata": {
        "id": "lG23dHBQpm3B"
      },
      "outputs": [],
      "source": [
        "%%time\n",
        "model.fit(X_train, y_train)"
      ]
    },
    {
      "cell_type": "markdown",
      "metadata": {
        "id": "XHuuaL1PprPv"
      },
      "source": [
        "We print the best set of hyperparamters found during the optimization as well as the model score obtained on the training set with the k-fold cross-validation."
      ]
    },
    {
      "cell_type": "code",
      "execution_count": null,
      "metadata": {
        "id": "s8D8wbpipvd0"
      },
      "outputs": [],
      "source": [
        "model.best_params_"
      ]
    },
    {
      "cell_type": "code",
      "execution_count": null,
      "metadata": {
        "id": "RcHEWTUMpzZQ"
      },
      "outputs": [],
      "source": [
        "model.best_score_"
      ]
    },
    {
      "cell_type": "markdown",
      "metadata": {
        "id": "2Oe6is0qrKoQ"
      },
      "source": [
        "### Model evaluation on test set\n",
        "\n",
        "By default, the `BayesSearchCV` object, as well as the scikit-learn `GridSearchCV` of `RandomSearchCV` objects, retrain the model, with the best hyperparameters, on the full training set at the end of the hyperparameter optimization. We therefore don't need to perform this test manually prior to evaluating the model on the test set.\n",
        "\n",
        "We use the model `score` method to evaluate the model score on the test set which it has never seen."
      ]
    },
    {
      "cell_type": "code",
      "execution_count": null,
      "metadata": {
        "id": "Dd4H9mErrRRC"
      },
      "outputs": [],
      "source": [
        "model.score(X_test, y_test)"
      ]
    },
    {
      "cell_type": "markdown",
      "metadata": {
        "id": "ifo-5axcrZRZ"
      },
      "source": [
        "The model achieves a very good score for such a small dataset with no data augmentation used. There is also only a small loss of performance compared to the model score on the training set, which indicates that the model is probably not overfitting the data.\n",
        "\n",
        "To further evaluate the model performance, we use the model's `predict` method to predict the labels of the test set."
      ]
    },
    {
      "cell_type": "code",
      "execution_count": null,
      "metadata": {
        "id": "EgZw5oOrrgAO"
      },
      "outputs": [],
      "source": [
        "y_pred = model.predict(X_test)"
      ]
    },
    {
      "cell_type": "markdown",
      "metadata": {
        "id": "kDutf38hryW2"
      },
      "source": [
        "Finally, we print the confusion matrix of predictions on the test set, which helps us understand where the models predictions are wrong."
      ]
    },
    {
      "cell_type": "code",
      "execution_count": null,
      "metadata": {
        "id": "_vc73Kb0r582"
      },
      "outputs": [],
      "source": [
        "conf_matrix = pd.DataFrame(confusion_matrix(y_test, y_pred))\n",
        "conf_matrix.index = pd.MultiIndex.from_tuples([('true label', label) for label in classes])\n",
        "conf_matrix.columns = pd.MultiIndex.from_tuples([('predicted label', label) for label in classes])\n",
        "conf_matrix"
      ]
    },
    {
      "cell_type": "markdown",
      "metadata": {
        "id": "0LFnuoaquZKm"
      },
      "source": [
        "## Dimensionality reduction with neural networks"
      ]
    },
    {
      "cell_type": "markdown",
      "metadata": {
        "id": "CinyqkM6Azt2"
      },
      "source": [
        "The approach we took is actually very similar in some ways to what a neural network does: it learns a representation of the data (and if the learned representation is of lower dimension than the input, it's doing dimensionality reduction). Then it uses that learned representation as input to a classifier.\n",
        "\n",
        "We could also use a neural network (without the classification \"head\") to do the unsupervised dimensionality reduction! The network will be trained to learn an approximation of the input image as the output."
      ]
    },
    {
      "cell_type": "markdown",
      "metadata": {
        "id": "yZahbei2K84y"
      },
      "source": [
        "**Change the runtime to GPU to run the rest of this notebook.**"
      ]
    },
    {
      "cell_type": "code",
      "execution_count": null,
      "metadata": {
        "id": "3UKomrB0wWKd"
      },
      "outputs": [],
      "source": [
        "import tensorflow_datasets as tfds\n",
        "import tensorflow as tf\n",
        "\n",
        "import numpy as np\n",
        "import matplotlib.pyplot as plt\n",
        "import seaborn as sns\n",
        "\n",
        "import pandas as pd"
      ]
    },
    {
      "cell_type": "code",
      "execution_count": null,
      "metadata": {
        "id": "EnwIWohSwXhg"
      },
      "outputs": [],
      "source": [
        "(ds_train, ds_test), ds_info = tfds.load(\n",
        "    'rock_paper_scissors',\n",
        "    split=['train', 'test'],\n",
        "    shuffle_files=False,\n",
        "    with_info=True,\n",
        "    as_supervised=False\n",
        ")"
      ]
    },
    {
      "cell_type": "code",
      "execution_count": null,
      "metadata": {
        "id": "0PWe8E2hwdGH"
      },
      "outputs": [],
      "source": [
        "INPUT_IMG_SIZE = 224\n",
        "INPUT_IMG_SHAPE = (224, 224, 3)"
      ]
    },
    {
      "cell_type": "code",
      "execution_count": null,
      "metadata": {
        "id": "2Z3PhuJZwi8D"
      },
      "outputs": [],
      "source": [
        "def preprocess_image(sample):\n",
        "    sample['image'] = tf.cast(sample['image'], tf.float32)\n",
        "    sample['image'] = tf.image.resize(sample['image'], [INPUT_IMG_SIZE, INPUT_IMG_SIZE])\n",
        "    return sample"
      ]
    },
    {
      "cell_type": "code",
      "source": [
        "ds_train = ds_train.map(preprocess_image).map(lambda x : (x, x)).batch(32).prefetch(tf.data.AUTOTUNE)\n",
        "ds_test = ds_test.map(preprocess_image).map(lambda x : (x, x)).batch(32).prefetch(tf.data.AUTOTUNE)"
      ],
      "metadata": {
        "id": "nfzTHRXZ9cWN"
      },
      "execution_count": null,
      "outputs": []
    },
    {
      "cell_type": "code",
      "execution_count": null,
      "metadata": {
        "id": "U8ilYIhH4VjB"
      },
      "outputs": [],
      "source": [
        "from keras.layers import Input, Dense, Conv2D, MaxPooling2D, UpSampling2D, Activation, Rescaling, Resizing\n",
        "from keras.models import Model, Sequential\n",
        "from keras import backend as K"
      ]
    },
    {
      "cell_type": "code",
      "execution_count": null,
      "metadata": {
        "id": "iZufN1WFysVM"
      },
      "outputs": [],
      "source": [
        "# Define the model\n",
        "encoder = Sequential()\n",
        "\n",
        "encoder.add(Input(shape=(224,224,3)))\n",
        "encoder.add(Rescaling(scale=1./127.5, offset=-1))\n",
        "\n",
        "encoder.add(Conv2D(16, (3, 3), padding='same'))\n",
        "encoder.add(Activation('relu'))\n",
        "encoder.add(MaxPooling2D(pool_size=(2,2), padding='same'))\n",
        "\n",
        "encoder.add(Conv2D(8,(3, 3), padding='same'))\n",
        "encoder.add(Activation('relu'))\n",
        "encoder.add(MaxPooling2D(pool_size=(2,2), padding='same'))\n",
        "\n",
        "encoder.add(Conv2D(1,(3, 3), padding='same'))\n",
        "encoder.add(Activation('relu'))\n",
        "encoder.add(MaxPooling2D(pool_size=(2,2), padding='same'))\n",
        "\n",
        "encoder.summary()"
      ]
    },
    {
      "cell_type": "code",
      "execution_count": null,
      "metadata": {
        "id": "9u8cS3CcM_eC"
      },
      "outputs": [],
      "source": [
        "decoder = Sequential()\n",
        "\n",
        "decoder.add(Input(shape=(28,28,1)))\n",
        "decoder.add(Conv2D(1, (3, 3), padding='same'))\n",
        "decoder.add(Activation('relu'))\n",
        "decoder.add(UpSampling2D((2, 2)))\n",
        "\n",
        "decoder.add(Conv2D(8,(3, 3), padding='same'))\n",
        "decoder.add(Activation('relu'))\n",
        "decoder.add(UpSampling2D((2, 2)))\n",
        "\n",
        "decoder.add(Conv2D(16,(3, 3), padding='same'))\n",
        "decoder.add(Activation('relu'))\n",
        "decoder.add(UpSampling2D((2, 2)))\n",
        "\n",
        "decoder.summary()"
      ]
    },
    {
      "cell_type": "code",
      "execution_count": null,
      "metadata": {
        "id": "GwVQvBnmNCd0"
      },
      "outputs": [],
      "source": [
        "model = Sequential()\n",
        "model.add(encoder)\n",
        "model.add(decoder)\n",
        "model.add(Conv2D(3,(3, 3), padding='same'))\n",
        "model.add(Activation('linear'))\n",
        "\n",
        "model.summary()"
      ]
    },
    {
      "cell_type": "code",
      "execution_count": null,
      "metadata": {
        "id": "gaux5V5Dy6dO"
      },
      "outputs": [],
      "source": [
        "model.compile(optimizer='adam', loss='mean_squared_error')"
      ]
    },
    {
      "cell_type": "code",
      "source": [
        "hist = model.fit(ds_train,\n",
        "                epochs=30,\n",
        "                shuffle=False,\n",
        "                validation_data=ds_test)"
      ],
      "metadata": {
        "id": "I5xHtrCl9jpQ"
      },
      "execution_count": null,
      "outputs": []
    },
    {
      "cell_type": "markdown",
      "metadata": {
        "id": "O2GEG-UBN7UH"
      },
      "source": [
        "When we train the model, we pass the images as both the features *and* the labels!"
      ]
    },
    {
      "cell_type": "code",
      "source": [
        "decoded_imgs = model.predict(ds_test)\n",
        "encoded_imgs = encoder.predict(ds_test)\n",
        "encoded_imgs.shape"
      ],
      "metadata": {
        "id": "cTYZfRfMj2ni"
      },
      "execution_count": null,
      "outputs": []
    },
    {
      "cell_type": "code",
      "source": [
        "X_test_nn = np.asarray(list(ds_test.unbatch().map(lambda x, y: x)))\n",
        "X_test_nn.shape"
      ],
      "metadata": {
        "id": "vo-_N3wg-8TZ"
      },
      "execution_count": null,
      "outputs": []
    },
    {
      "cell_type": "code",
      "execution_count": null,
      "metadata": {
        "id": "qMVl_FV94nqI"
      },
      "outputs": [],
      "source": [
        "n = 10\n",
        "plt.figure(figsize=(20, 6))\n",
        "\n",
        "for i in range(n):\n",
        "\n",
        "    # display original\n",
        "    ax = plt.subplot(3, n, i + 1)\n",
        "    plt.imshow(X_test_nn[i]['image'].numpy()/255.0)\n",
        "    plt.gray()\n",
        "    ax.get_xaxis().set_visible(False)\n",
        "    ax.get_yaxis().set_visible(False)\n",
        "\n",
        "    # display encoded image via neural autoencoder\n",
        "    ax = plt.subplot(3, n, i + n + 1)\n",
        "    plt.imshow(encoded_imgs[i, :, :, 0].reshape(encoded_imgs.shape[1], encoded_imgs.shape[2]))\n",
        "    plt.gray()\n",
        "    ax.get_xaxis().set_visible(False)\n",
        "    ax.get_yaxis().set_visible(False)\n",
        "\n",
        "    # display reconstruction via neural autoencoder\n",
        "    ax = plt.subplot(3, n, i + 2*n + 1)\n",
        "    plt.imshow(decoded_imgs[i].reshape(224, 224, 3)/255.0)\n",
        "    plt.gray()\n",
        "    ax.get_xaxis().set_visible(False)\n",
        "    ax.get_yaxis().set_visible(False)\n",
        "\n",
        "plt.show()\n"
      ]
    },
    {
      "cell_type": "code",
      "source": [],
      "metadata": {
        "id": "HvDK0Ydo_1mA"
      },
      "execution_count": null,
      "outputs": []
    }
  ],
  "metadata": {
    "colab": {
      "provenance": [],
      "gpuType": "T4",
      "include_colab_link": true
    },
    "kernelspec": {
      "display_name": "Python 3",
      "name": "python3"
    },
    "accelerator": "GPU"
  },
  "nbformat": 4,
  "nbformat_minor": 0
}